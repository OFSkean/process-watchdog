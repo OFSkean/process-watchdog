{
 "cells": [
  {
   "cell_type": "code",
   "execution_count": 1,
   "id": "784bec46-13a7-4245-9351-d08ee9394788",
   "metadata": {},
   "outputs": [],
   "source": [
    "import watchdog.Notifier as watchdog\n",
    "watchdog.start(\"fake@fakeemail.com\", universal_exception_notifier=True)"
   ]
  },
  {
   "cell_type": "code",
   "execution_count": 4,
   "id": "f581ff2a-fb60-4999-8099-1668cf93645f",
   "metadata": {},
   "outputs": [],
   "source": [
    "assert 1 == 1  # no email sent"
   ]
  },
  {
   "cell_type": "code",
   "execution_count": 3,
   "id": "1d86fe6e-072b-40b0-852f-ebf2ff936be9",
   "metadata": {},
   "outputs": [
    {
     "ename": "AssertionError",
     "evalue": "",
     "output_type": "error",
     "traceback": [
      "\u001b[0;31m---------------------------------------------------------------------------\u001b[0m",
      "\u001b[0;31mAssertionError\u001b[0m                            Traceback (most recent call last)",
      "\u001b[0;32m/tmp/ipykernel_113330/4270899049.py\u001b[0m in \u001b[0;36m<module>\u001b[0;34m\u001b[0m\n\u001b[0;32m----> 1\u001b[0;31m \u001b[0;32massert\u001b[0m \u001b[0;36m1\u001b[0m \u001b[0;34m==\u001b[0m \u001b[0;36m0\u001b[0m  \u001b[0;31m# sends email with error info\u001b[0m\u001b[0;34m\u001b[0m\u001b[0;34m\u001b[0m\u001b[0m\n\u001b[0m",
      "\u001b[0;31mAssertionError\u001b[0m: "
     ]
    }
   ],
   "source": [
    "assert 1 == 0  # sends email with error info"
   ]
  }
 ],
 "metadata": {
  "kernelspec": {
   "display_name": "Python 3 (ipykernel)",
   "language": "python",
   "name": "python3"
  },
  "language_info": {
   "codemirror_mode": {
    "name": "ipython",
    "version": 3
   },
   "file_extension": ".py",
   "mimetype": "text/x-python",
   "name": "python",
   "nbconvert_exporter": "python",
   "pygments_lexer": "ipython3",
   "version": "3.8.10"
  }
 },
 "nbformat": 4,
 "nbformat_minor": 5
}
